{
 "cells": [
  {
   "cell_type": "code",
   "execution_count": 4,
   "metadata": {},
   "outputs": [],
   "source": [
    "import cv2 as cv\n",
    "import matplotlib.pyplot as plt\n",
    "import numpy as np"
   ]
  },
  {
   "cell_type": "markdown",
   "metadata": {},
   "source": [
    "# Morphological Transformation"
   ]
  },
  {
   "cell_type": "code",
   "execution_count": 62,
   "metadata": {},
   "outputs": [
    {
     "data": {
      "image/png": "[encoded data removed]",
      "text/plain": [
       "<Figure size 432x288 with 8 Axes>"
      ]
     },
     "metadata": {},
     "output_type": "display_data"
    }
   ],
   "source": [
    "img = cv.imread('smarties.png', 0) #image in grayscale\n",
    "mask = cv.threshold(img, 220, 255, cv.THRESH_BINARY_INV)[1] #binarized image (mask)\n",
    "\n",
    "kernel = np.ones((3, 3), np.uint8) #to be use in morphological transformations (e.g: as a 3x3 block of pixel) \n",
    "\n",
    "dilation = cv.dilate(mask, kernel, iterations=2) #will increase the shapes, runs the kernel over the mask & if any pixel in kernel has 1 (or 255) then the current pixel value will be set as 1 (or 255) \n",
    "erosion = cv.erode(mask, kernel, iterations=2) #will decrease the shapes, runs the kernel over the mask & if any pixel in kernel has 0 then the current pixel value will be set as 0\n",
    "opening = cv.morphologyEx(mask, cv.MORPH_OPEN, kernel, iterations=1) #performs erosion first then dilation (cv.dilate())\n",
    "closing = cv.morphologyEx(mask, cv.MORPH_CLOSE, kernel, iterations=2) #performs dilation first then erosion (cv.erode())\n",
    "morphological_gradient = cv.morphologyEx(mask, cv.MORPH_GRADIENT, kernel) #difference b/w dilation & erosion (dilation - erosion) \n",
    "top_hat = cv.morphologyEx(mask, cv.MORPH_TOPHAT, kernel) #difference b/w mask & opening (mask - opening) \n",
    "\n",
    "titles = ['image', 'mask', 'dilation', 'erosion', 'opening', 'closing', 'morphological_gradient', 'top_hat'] #to be use in 'for' loop\n",
    "images = [img, mask, dilation, erosion, opening, closing, morphological_gradient, top_hat] #to be use in 'for' loop\n",
    "for i in range(8):\n",
    "    cv.imshow(titles[i], images[i])\n",
    "    \n",
    "cv.waitKey(0)\n",
    "cv.destroyAllWindows()\n",
    "\n",
    "#displaying with pyplot (small & messy view)\n",
    "for i in range(8):\n",
    "    plt.subplot(2, 4, i+1)\n",
    "    plt.imshow(images[i], 'gray')\n",
    "    plt.xticks([])\n",
    "    plt.yticks([])\n",
    "    \n",
    "plt.show()\n"
   ]
  },
  {
   "cell_type": "code",
   "execution_count": null,
   "metadata": {},
   "outputs": [],
   "source": []
  }
 ],
 "metadata": {
  "kernelspec": {
   "display_name": "Python 3",
   "language": "python",
   "name": "python3"
  },
  "language_info": {
   "codemirror_mode": {
    "name": "ipython",
    "version": 3
   },
   "file_extension": ".py",
   "mimetype": "text/x-python",
   "name": "python",
   "nbconvert_exporter": "python",
   "pygments_lexer": "ipython3",
   "version": "3.8.1"
  }
 },
 "nbformat": 4,
 "nbformat_minor": 4
}
